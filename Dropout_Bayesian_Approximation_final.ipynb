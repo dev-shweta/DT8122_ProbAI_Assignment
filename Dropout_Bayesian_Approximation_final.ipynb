{
 "cells": [
  {
   "cell_type": "markdown",
   "metadata": {},
   "source": [
    "# Dropout as a Bayesian Approximation"
   ]
  },
  {
   "cell_type": "code",
   "execution_count": 1,
   "metadata": {},
   "outputs": [],
   "source": [
    "import numpy as np\n",
    "import pandas as pd\n",
    "import time\n",
    "from scipy.ndimage.interpolation import rotate\n",
    "\n",
    "import seaborn as sns\n",
    "%matplotlib inline\n",
    "\n",
    "import torch\n",
    "import torchvision\n",
    "from torchvision import datasets\n",
    "from torchvision import transforms\n",
    "from torch.autograd import Variable\n",
    "import torch.nn as nn\n",
    "import torch.nn.functional as F\n",
    "import torch.optim as optim\n",
    "from torch.utils.data.sampler import SubsetRandomSampler\n",
    "\n",
    "#import pymc3 as pm"
   ]
  },
  {
   "cell_type": "code",
   "execution_count": 2,
   "metadata": {},
   "outputs": [
    {
     "data": {
      "text/html": [
       "<div>\n",
       "<style scoped>\n",
       "    .dataframe tbody tr th:only-of-type {\n",
       "        vertical-align: middle;\n",
       "    }\n",
       "\n",
       "    .dataframe tbody tr th {\n",
       "        vertical-align: top;\n",
       "    }\n",
       "\n",
       "    .dataframe thead th {\n",
       "        text-align: right;\n",
       "    }\n",
       "</style>\n",
       "<table border=\"1\" class=\"dataframe\">\n",
       "  <thead>\n",
       "    <tr style=\"text-align: right;\">\n",
       "      <th></th>\n",
       "      <th>df1</th>\n",
       "      <th>df2</th>\n",
       "      <th>df3</th>\n",
       "      <th>df4</th>\n",
       "      <th>df5</th>\n",
       "    </tr>\n",
       "  </thead>\n",
       "  <tbody>\n",
       "    <tr>\n",
       "      <th>0</th>\n",
       "      <td>8.34</td>\n",
       "      <td>40.77</td>\n",
       "      <td>1010.84</td>\n",
       "      <td>90.01</td>\n",
       "      <td>480.48</td>\n",
       "    </tr>\n",
       "    <tr>\n",
       "      <th>1</th>\n",
       "      <td>23.64</td>\n",
       "      <td>58.49</td>\n",
       "      <td>1011.40</td>\n",
       "      <td>74.20</td>\n",
       "      <td>445.75</td>\n",
       "    </tr>\n",
       "    <tr>\n",
       "      <th>2</th>\n",
       "      <td>29.74</td>\n",
       "      <td>56.90</td>\n",
       "      <td>1007.15</td>\n",
       "      <td>41.91</td>\n",
       "      <td>438.76</td>\n",
       "    </tr>\n",
       "    <tr>\n",
       "      <th>3</th>\n",
       "      <td>19.07</td>\n",
       "      <td>49.69</td>\n",
       "      <td>1007.22</td>\n",
       "      <td>76.79</td>\n",
       "      <td>453.09</td>\n",
       "    </tr>\n",
       "    <tr>\n",
       "      <th>4</th>\n",
       "      <td>11.80</td>\n",
       "      <td>40.66</td>\n",
       "      <td>1017.13</td>\n",
       "      <td>97.20</td>\n",
       "      <td>464.43</td>\n",
       "    </tr>\n",
       "  </tbody>\n",
       "</table>\n",
       "</div>"
      ],
      "text/plain": [
       "     df1    df2      df3    df4     df5\n",
       "0   8.34  40.77  1010.84  90.01  480.48\n",
       "1  23.64  58.49  1011.40  74.20  445.75\n",
       "2  29.74  56.90  1007.15  41.91  438.76\n",
       "3  19.07  49.69  1007.22  76.79  453.09\n",
       "4  11.80  40.66  1017.13  97.20  464.43"
      ]
     },
     "execution_count": 2,
     "metadata": {},
     "output_type": "execute_result"
    }
   ],
   "source": [
    "def read_file(filename):\n",
    "    with open(filename) as f:\n",
    "        for line in f:\n",
    "            yield line.strip().split(' ')\n",
    "\n",
    "#df = pd.read_csv('/Users/shwetatiwari2601/Projects/dt8122/datasets/protein.txt', sep=' ', header=None, \n",
    "                 #names=['df1', 'df2', 'df3', 'df4', 'df5', 'df6', 'df7', 'df8', 'df9', 'df10'], index_col=False)\n",
    "df = pd.read_csv('/Users/shwetatiwari2601/Projects/dt8122/datasets/power.txt', sep='\\t', header=None, \n",
    "                 names=['df1', 'df2', 'df3', 'df4', 'df5'], index_col=False)\n",
    "df.head()"
   ]
  },
  {
   "cell_type": "code",
   "execution_count": 51,
   "metadata": {},
   "outputs": [
    {
     "data": {
      "text/plain": [
       "(9568, 5)"
      ]
     },
     "execution_count": 51,
     "metadata": {},
     "output_type": "execute_result"
    }
   ],
   "source": [
    "df.shape"
   ]
  },
  {
   "cell_type": "code",
   "execution_count": 3,
   "metadata": {},
   "outputs": [],
   "source": [
    "# Input features X\n",
    "X = df.iloc[:, :4]\n",
    "#X = df.iloc[:, :9]\n",
    "# Target y\n",
    "y = df.iloc[:, 4:]\n",
    "#y = df.iloc[:, 9:]"
   ]
  },
  {
   "cell_type": "code",
   "execution_count": 4,
   "metadata": {},
   "outputs": [
    {
     "name": "stdout",
     "output_type": "stream",
     "text": [
      "Shape of X_train: (8611, 4)\n",
      "Shape of X_test: (957, 4)\n",
      "Shape of y_train: (8611, 1)\n",
      "Shape of y_test: (957, 1)\n"
     ]
    }
   ],
   "source": [
    "# Splitting dataset into train and test set, test size = 10% of the dataset\n",
    "from sklearn.model_selection import train_test_split\n",
    "X_train, X_test, y_train, y_test = train_test_split(X, y, test_size=0.10)\n",
    "print('Shape of X_train:', X_train.shape)\n",
    "print('Shape of X_test:', X_test.shape)\n",
    "print('Shape of y_train:', y_train.shape)\n",
    "print('Shape of y_test:', y_test.shape)"
   ]
  },
  {
   "cell_type": "code",
   "execution_count": 5,
   "metadata": {},
   "outputs": [],
   "source": [
    "X_train = X_train.astype(np.float32)\n",
    "y_train = y_train.astype(np.float32)\n",
    "X_test = X_test.astype(np.float32)\n",
    "y_test = y_test.astype(np.float32)"
   ]
  },
  {
   "cell_type": "code",
   "execution_count": 6,
   "metadata": {},
   "outputs": [],
   "source": [
    "# Transform into tensors\n",
    "X_train = torch.from_numpy(X_train.values)\n",
    "y_train = torch.from_numpy(y_train.values)"
   ]
  },
  {
   "cell_type": "code",
   "execution_count": 7,
   "metadata": {},
   "outputs": [
    {
     "name": "stdout",
     "output_type": "stream",
     "text": [
      "X_train size: torch.Size([8611, 4])\n",
      "y_train size: torch.Size([8611, 1])\n"
     ]
    }
   ],
   "source": [
    "print('X_train size:', X_train.size())\n",
    "print('y_train size:', y_train.size())"
   ]
  },
  {
   "cell_type": "code",
   "execution_count": 11,
   "metadata": {},
   "outputs": [],
   "source": [
    "'''\n",
    "    nn.Module: is a base class for all modules, my module should be sub class of nn.Module class\n",
    "    \n",
    "    nn.Sequential: is a module container, modules are added in it in order they pass i the constructor\n",
    "    \n",
    "    ReLU is rectified linear unit y=max(0,x), activation function for a neural network layer, \n",
    "    ReLu is 0 for all the negative values\n",
    "    \n",
    "    Applies the element-wise tanh(x)=(e^x-e^-x)/(e^x+e^-x)\n",
    "    \n",
    "    nn.Linear: applies linear transformation to the incoming data. \n",
    "        Parameters:nn.Linear(in_features, out_features)\n",
    "    \n",
    "    nn.Dropout: During training, randomly zeroes some of the elements of the input tensor with probability p \n",
    "    using samples from a Bernoulli distribution. Each channel will be zeroed out independently on every \n",
    "    forward call. Furthermore, the outputs are scaled by a factor of 1/(1-p)during training. This means that  \n",
    "    during evaluation the module simply computes an identity function. \n",
    "    parameters od nn.Dropout:\n",
    "        p – probability of an element to be zeroed. Default: 0.5\n",
    "        inplace – If set to True, will do this operation in-place. Default: False\n",
    "        Input could be of any shape, output should be of same shape as Input\n",
    "'''\n",
    "\n",
    "class My_Network(nn.Module):    \n",
    "    def __init__(self, hidden_layers, dropout_rate, activation_function):\n",
    "        super(My_Network, self).__init__()\n",
    "        self.model = nn.Sequential()\n",
    "        #Adds a child module to the current module. The module can be accessed as an attribute using the given name.\n",
    "        self.model.add_module('input', nn.Linear(4, hidden_layers[0])) \n",
    "        self.model.add_module('relu0', nn.ReLU())\n",
    "        for i in range(len(hidden_layers)-1):\n",
    "            self.model.add_module('dropout'+str(i+1), nn.Dropout(p=dropout_rate))# pytorch's inbuilt droupout\n",
    "            self.model.add_module('hidden'+str(i+1), nn.Linear(hidden_layers[i], hidden_layers[i+1]))\n",
    "            self.model.add_module('relu'+str(i+1), nn.ReLU())\n",
    "        self.model.add_module('dropout'+str(i+2), nn.Dropout(p=dropout_rate))\n",
    "        self.model.add_module('final', nn.Linear(hidden_layers[i+1], 1))\n",
    "        \n",
    "    def forward(self, x):\n",
    "        return self.model(x)"
   ]
  },
  {
   "cell_type": "code",
   "execution_count": 32,
   "metadata": {},
   "outputs": [],
   "source": [
    "class Regressor:\n",
    "    def __init__(self, hidden_layers=[1024, 1024, 1024], dropout_rate=0.2, activation_function='relu', \\\n",
    "                 epoch=100, lr=0.0001, weight_decay=1e-6):\n",
    "        self.model = My_Network(hidden_layers=hidden_layers, dropout_rate=dropout_rate, activation_function=activation_function)\n",
    "        self.model.cpu()\n",
    "        self.criterion = nn.MSELoss().cpu()\n",
    "        self.epoch=epoch\n",
    "        self.lr=lr\n",
    "        self.weight_decay=weight_decay\n",
    "        self.optimizer = optim.Adam(self.model.parameters(), lr=lr, weight_decay=weight_decay)\n",
    "    \n",
    "    def fit(self, X_train, y_train, verbose=True):\n",
    "        X = Variable(X_train)\n",
    "        y = Variable(y_train)\n",
    "        print(self.model)\n",
    "        self.model.train()\n",
    "        start_time = time.time()\n",
    "        for epoch_i in range(self.epoch):\n",
    "            epoch_i += 1\n",
    "            epoch_loss = 0\n",
    "            self.optimizer.zero_grad()\n",
    "            net_out = self.model(X)\n",
    "            loss = self.criterion(net_out, y)\n",
    "            loss.backward()\n",
    "            self.optimizer.step()\n",
    "            epoch_loss += float(loss.data)\n",
    "            epoch_loss /= len(X)\n",
    "            if verbose:\n",
    "                print(f'Epoch {epoch_i} | loss: {epoch_loss:.4f}')\n",
    "        running_time = time.time() - start_time\n",
    "        print('Running time in seconds:', running_time)\n",
    "        return self\n",
    "    "
   ]
  },
  {
   "cell_type": "code",
   "execution_count": 33,
   "metadata": {},
   "outputs": [
    {
     "name": "stdout",
     "output_type": "stream",
     "text": [
      "My_Network(\n",
      "  (model): Sequential(\n",
      "    (input): Linear(in_features=4, out_features=1024, bias=True)\n",
      "    (relu0): ReLU()\n",
      "    (dropout1): Dropout(p=0.2)\n",
      "    (hidden1): Linear(in_features=1024, out_features=1024, bias=True)\n",
      "    (relu1): ReLU()\n",
      "    (dropout2): Dropout(p=0.2)\n",
      "    (hidden2): Linear(in_features=1024, out_features=1024, bias=True)\n",
      "    (relu2): ReLU()\n",
      "    (dropout3): Dropout(p=0.2)\n",
      "    (final): Linear(in_features=1024, out_features=1, bias=True)\n",
      "  )\n",
      ")\n",
      "Epoch 1 | loss: 26.5012\n",
      "Epoch 2 | loss: 18.2864\n",
      "Epoch 3 | loss: 11.7001\n",
      "Epoch 4 | loss: 6.6206\n",
      "Epoch 5 | loss: 2.8855\n",
      "Epoch 6 | loss: 0.6880\n",
      "Epoch 7 | loss: 0.1774\n",
      "Epoch 8 | loss: 1.2424\n",
      "Epoch 9 | loss: 2.7029\n",
      "Epoch 10 | loss: 3.2837\n",
      "Epoch 11 | loss: 3.0137\n",
      "Epoch 12 | loss: 2.2197\n",
      "Epoch 13 | loss: 1.3523\n",
      "Epoch 14 | loss: 0.6604\n",
      "Epoch 15 | loss: 0.2641\n",
      "Epoch 16 | loss: 0.1310\n",
      "Epoch 17 | loss: 0.1932\n",
      "Epoch 18 | loss: 0.3682\n",
      "Epoch 19 | loss: 0.5640\n",
      "Epoch 20 | loss: 0.7068\n",
      "Epoch 21 | loss: 0.8042\n",
      "Epoch 22 | loss: 0.8162\n",
      "Epoch 23 | loss: 0.7632\n",
      "Epoch 24 | loss: 0.6618\n",
      "Epoch 25 | loss: 0.5323\n",
      "Epoch 26 | loss: 0.3876\n",
      "Epoch 27 | loss: 0.2644\n",
      "Epoch 28 | loss: 0.1714\n",
      "Epoch 29 | loss: 0.1358\n",
      "Epoch 30 | loss: 0.1395\n",
      "Epoch 31 | loss: 0.1790\n",
      "Epoch 32 | loss: 0.2338\n",
      "Epoch 33 | loss: 0.2793\n",
      "Epoch 34 | loss: 0.3198\n",
      "Epoch 35 | loss: 0.3185\n",
      "Epoch 36 | loss: 0.2992\n",
      "Epoch 37 | loss: 0.2617\n",
      "Epoch 38 | loss: 0.2148\n",
      "Epoch 39 | loss: 0.1712\n",
      "Epoch 40 | loss: 0.1404\n",
      "Epoch 41 | loss: 0.1352\n",
      "Epoch 42 | loss: 0.1360\n",
      "Epoch 43 | loss: 0.1505\n",
      "Epoch 44 | loss: 0.1698\n",
      "Epoch 45 | loss: 0.1819\n",
      "Epoch 46 | loss: 0.1912\n",
      "Epoch 47 | loss: 0.1919\n",
      "Epoch 48 | loss: 0.1838\n",
      "Epoch 49 | loss: 0.1724\n",
      "Epoch 50 | loss: 0.1562\n",
      "Epoch 51 | loss: 0.1456\n",
      "Epoch 52 | loss: 0.1343\n",
      "Epoch 53 | loss: 0.1295\n",
      "Epoch 54 | loss: 0.1301\n",
      "Epoch 55 | loss: 0.1395\n",
      "Epoch 56 | loss: 0.1452\n",
      "Epoch 57 | loss: 0.1428\n",
      "Epoch 58 | loss: 0.1502\n",
      "Epoch 59 | loss: 0.1480\n",
      "Epoch 60 | loss: 0.1448\n",
      "Epoch 61 | loss: 0.1382\n",
      "Epoch 62 | loss: 0.1369\n",
      "Epoch 63 | loss: 0.1338\n",
      "Epoch 64 | loss: 0.1271\n",
      "Epoch 65 | loss: 0.1299\n",
      "Epoch 66 | loss: 0.1336\n",
      "Epoch 67 | loss: 0.1372\n",
      "Epoch 68 | loss: 0.1365\n",
      "Epoch 69 | loss: 0.1351\n",
      "Epoch 70 | loss: 0.1367\n",
      "Epoch 71 | loss: 0.1337\n",
      "Epoch 72 | loss: 0.1361\n",
      "Epoch 73 | loss: 0.1325\n",
      "Epoch 74 | loss: 0.1271\n",
      "Epoch 75 | loss: 0.1279\n",
      "Epoch 76 | loss: 0.1315\n",
      "Epoch 77 | loss: 0.1339\n",
      "Epoch 78 | loss: 0.1294\n",
      "Epoch 79 | loss: 0.1331\n",
      "Epoch 80 | loss: 0.1290\n",
      "Epoch 81 | loss: 0.1305\n",
      "Epoch 82 | loss: 0.1297\n",
      "Epoch 83 | loss: 0.1311\n",
      "Epoch 84 | loss: 0.1300\n",
      "Epoch 85 | loss: 0.1278\n",
      "Epoch 86 | loss: 0.1325\n",
      "Epoch 87 | loss: 0.1251\n",
      "Epoch 88 | loss: 0.1282\n",
      "Epoch 89 | loss: 0.1271\n",
      "Epoch 90 | loss: 0.1309\n",
      "Epoch 91 | loss: 0.1263\n",
      "Epoch 92 | loss: 0.1238\n",
      "Epoch 93 | loss: 0.1238\n",
      "Epoch 94 | loss: 0.1300\n",
      "Epoch 95 | loss: 0.1268\n",
      "Epoch 96 | loss: 0.1245\n",
      "Epoch 97 | loss: 0.1256\n",
      "Epoch 98 | loss: 0.1235\n",
      "Epoch 99 | loss: 0.1240\n",
      "Epoch 100 | loss: 0.1267\n",
      "Running time in seconds: 108.93270301818848\n"
     ]
    }
   ],
   "source": [
    "# Define networks\n",
    "net = [Regressor(activation_function='relu')]\n",
    "        \n",
    "# Training, set verbose=True to see loss after each epoch.\n",
    "[n.fit(X_train, y_train, verbose=True) for n in net]\n",
    "\n",
    "# Save torch models\n",
    "for i, mod in enumerate(net):\n",
    "    torch.save(mod.model, '/Users/shwetatiwari2601/Projects/dt8122/results/power_dropout_100epoc'+str(i)+'.pth')"
   ]
  },
  {
   "cell_type": "code",
   "execution_count": 34,
   "metadata": {},
   "outputs": [],
   "source": [
    "'''\n",
    "    y_pred = prediction by dropout model\n",
    "    y_hat_mc = prediction by dropout model using monte carlo sampling\n",
    "'''\n",
    "def predict_reg(model, X, T=1000):\n",
    "    X = Variable(torch.from_numpy(X).type(torch.FloatTensor))\n",
    "    model = model.train()\n",
    "    y_hat_mc = np.array([model(X).data.cpu().numpy() for _ in range(T)]).squeeze() \n",
    "    model = model.eval() # only retrieved pre-trained model\n",
    "    y_pred = model(X).data.cpu().numpy()\n",
    "    model = model.train()# to set a flag( do not take pre-trained model)\n",
    "    return y_pred, y_hat_mc"
   ]
  },
  {
   "cell_type": "code",
   "execution_count": 36,
   "metadata": {},
   "outputs": [
    {
     "data": {
      "text/plain": [
       "27859"
      ]
     },
     "execution_count": 36,
     "metadata": {},
     "output_type": "execute_result"
    }
   ],
   "source": [
    "power_models = torch.load('/Users/shwetatiwari2601/Projects/dt8122/results/power_dropout_100epoc0.pth')\n",
    "y_pred, y_hat_mc = predict_reg(power_models, X_test.values) \n",
    "y_pred_mc = y_hat_mc.mean(axis=0)\n",
    "y_mc_std = y_hat_mc.std(axis=0)\n",
    "results = [y_pred,y_pred_mc,y_mc_std]\n",
    "results = [x.reshape(-1).astype(str).tolist() for x in results]\n",
    "open(\"/Users/shwetatiwari2601/Projects/dt8122/results/power_results100.txt\",\"w\").write('\\n'.join([','.join(res) for res in results]))"
   ]
  },
  {
   "cell_type": "code",
   "execution_count": 37,
   "metadata": {},
   "outputs": [
    {
     "data": {
      "text/plain": [
       "27.923414"
      ]
     },
     "execution_count": 37,
     "metadata": {},
     "output_type": "execute_result"
    }
   ],
   "source": [
    "RMSE = np.sqrt(np.mean((y_pred - y_test.values)**2))\n",
    "RMSE"
   ]
  },
  {
   "cell_type": "code",
   "execution_count": 38,
   "metadata": {},
   "outputs": [],
   "source": [
    "import scipy.stats\n",
    "def pred_interval(y_true, y_pred, quantile):  # z = significance level of 95%, which is the Gaussian critical value of 1.96.\n",
    "    z = scipy.stats.norm.ppf(quantile)\n",
    "    sum_err = np.sum((y_true - y_pred) ** 2)\n",
    "    stdev = np.sqrt(1/(len(y_true) - 2) * sum_err)\n",
    "    interval = z * stdev\n",
    "    return interval"
   ]
  },
  {
   "cell_type": "code",
   "execution_count": 39,
   "metadata": {},
   "outputs": [
    {
     "data": {
      "text/plain": [
       "45.977998845724585"
      ]
     },
     "execution_count": 39,
     "metadata": {},
     "output_type": "execute_result"
    }
   ],
   "source": [
    "interval = pred_interval(y_test.values, y_pred, .95)\n",
    "interval"
   ]
  },
  {
   "cell_type": "code",
   "execution_count": 40,
   "metadata": {},
   "outputs": [],
   "source": [
    "lower = y_pred - interval\n",
    "upper = y_pred + interval"
   ]
  },
  {
   "cell_type": "raw",
   "metadata": {},
   "source": [
    "sum_ = np.sum(y_pred)\n",
    "mean_ = sum_/len(y_pred)\n",
    "std = np.sqrt(y_pred/mean_)\n",
    "upper = y_pred + 1.96*std\n",
    "lower = y_pred - 1.96*std"
   ]
  },
  {
   "cell_type": "raw",
   "metadata": {},
   "source": [
    "y_test = y_test.reset_index(drop=True)\n",
    "plt.plot(y_test[:50])"
   ]
  },
  {
   "cell_type": "code",
   "execution_count": 41,
   "metadata": {},
   "outputs": [
    {
     "name": "stdout",
     "output_type": "stream",
     "text": [
      "[476.27948] [430.30148] [384.3235]\n"
     ]
    }
   ],
   "source": [
    "print(upper[1], y_pred[1], lower[1])"
   ]
  },
  {
   "cell_type": "code",
   "execution_count": 42,
   "metadata": {},
   "outputs": [
    {
     "data": {
      "text/html": [
       "<div>\n",
       "<style scoped>\n",
       "    .dataframe tbody tr th:only-of-type {\n",
       "        vertical-align: middle;\n",
       "    }\n",
       "\n",
       "    .dataframe tbody tr th {\n",
       "        vertical-align: top;\n",
       "    }\n",
       "\n",
       "    .dataframe thead th {\n",
       "        text-align: right;\n",
       "    }\n",
       "</style>\n",
       "<table border=\"1\" class=\"dataframe\">\n",
       "  <thead>\n",
       "    <tr style=\"text-align: right;\">\n",
       "      <th></th>\n",
       "      <th>y_true</th>\n",
       "      <th>y_pred</th>\n",
       "      <th>y_lower</th>\n",
       "      <th>y_upper</th>\n",
       "    </tr>\n",
       "  </thead>\n",
       "  <tbody>\n",
       "    <tr>\n",
       "      <th>0</th>\n",
       "      <td>456.649994</td>\n",
       "      <td>430.902954</td>\n",
       "      <td>384.924957</td>\n",
       "      <td>476.880951</td>\n",
       "    </tr>\n",
       "    <tr>\n",
       "      <th>1</th>\n",
       "      <td>436.799988</td>\n",
       "      <td>430.301483</td>\n",
       "      <td>384.323486</td>\n",
       "      <td>476.279480</td>\n",
       "    </tr>\n",
       "    <tr>\n",
       "      <th>2</th>\n",
       "      <td>462.029999</td>\n",
       "      <td>433.411957</td>\n",
       "      <td>387.433960</td>\n",
       "      <td>479.389954</td>\n",
       "    </tr>\n",
       "    <tr>\n",
       "      <th>3</th>\n",
       "      <td>453.049988</td>\n",
       "      <td>431.418030</td>\n",
       "      <td>385.440033</td>\n",
       "      <td>477.396027</td>\n",
       "    </tr>\n",
       "    <tr>\n",
       "      <th>4</th>\n",
       "      <td>479.559998</td>\n",
       "      <td>436.002869</td>\n",
       "      <td>390.024872</td>\n",
       "      <td>481.980865</td>\n",
       "    </tr>\n",
       "  </tbody>\n",
       "</table>\n",
       "</div>"
      ],
      "text/plain": [
       "       y_true      y_pred     y_lower     y_upper\n",
       "0  456.649994  430.902954  384.924957  476.880951\n",
       "1  436.799988  430.301483  384.323486  476.279480\n",
       "2  462.029999  433.411957  387.433960  479.389954\n",
       "3  453.049988  431.418030  385.440033  477.396027\n",
       "4  479.559998  436.002869  390.024872  481.980865"
      ]
     },
     "execution_count": 42,
     "metadata": {},
     "output_type": "execute_result"
    }
   ],
   "source": [
    "results = pd.DataFrame(index=y_test.index)\n",
    "results['y_true'] = y_test.values\n",
    "results['y_pred'] = y_pred\n",
    "results['y_lower'] = lower\n",
    "results['y_upper'] = upper\n",
    "results = results.reset_index(drop=True)\n",
    "results.head()"
   ]
  },
  {
   "cell_type": "code",
   "execution_count": 43,
   "metadata": {},
   "outputs": [
    {
     "name": "stdout",
     "output_type": "stream",
     "text": [
      "439.55408 423.17303 494.39 425.21\n"
     ]
    }
   ],
   "source": [
    "print(y_pred.max(), y_pred.min(), y_test.values.max(), y_test.values.min())"
   ]
  },
  {
   "cell_type": "code",
   "execution_count": 44,
   "metadata": {},
   "outputs": [],
   "source": [
    "def picp(y_true, y_lower, y_upper):\n",
    "    x = []\n",
    "    for y, lo, up in zip(y_true, y_lower, y_upper):\n",
    "        condition = ((lo < y) & (y < up))\n",
    "        if condition:\n",
    "            value = 1\n",
    "        else:\n",
    "            value = 0\n",
    "        x.append(value)\n",
    "    result = np.sum(x) / float(len(x))\n",
    "    return result"
   ]
  },
  {
   "cell_type": "code",
   "execution_count": 45,
   "metadata": {},
   "outputs": [],
   "source": [
    "def mpiw(y_lower, y_upper):\n",
    "    result = (y_upper - y_lower).mean()\n",
    "    return result"
   ]
  },
  {
   "cell_type": "code",
   "execution_count": 46,
   "metadata": {},
   "outputs": [
    {
     "name": "stdout",
     "output_type": "stream",
     "text": [
      "RMSE =  27.923414\n",
      "PICP =  0.9070010449320794\n",
      "MIPW =  91.95601\n"
     ]
    }
   ],
   "source": [
    "PICP = picp(y_test.values, lower, upper)\n",
    "MPIW = mpiw(lower, upper)\n",
    "RMSE = np.sqrt(np.mean((y_pred - y_test.values)**2))\n",
    "print('RMSE = ', RMSE)\n",
    "print('PICP = ', PICP)\n",
    "print('MIPW = ', MPIW)"
   ]
  },
  {
   "cell_type": "code",
   "execution_count": 49,
   "metadata": {},
   "outputs": [],
   "source": [
    "import matplotlib.pyplot as plt\n",
    "def plot_prediction_intervals(data, y_true_label='y_true',  y_pred_label='y_pred', \n",
    "                              y_lower_label='y_lower', y_upper_label='y_upper',\n",
    "                              figsize=(20,5)):\n",
    "    fig, ax = plt.subplots(figsize=figsize)\n",
    "\n",
    "    ax.plot(data[[y_true_label]], color='green', linestyle='solid')\n",
    "    ax.plot(data[[y_pred_label]], color='blue', linestyle='dotted')\n",
    "    ax.fill_between(data.index, data[y_lower_label], data[y_upper_label], \n",
    "                    label='prediction interval', color='grey')\n",
    "\n",
    "#     ax.set_xlim([0, len(data) -1 ])\n",
    "\n",
    "    ax.set_xlabel('Index')\n",
    "    ax.set_ylabel('Values')\n",
    "    ax.set_title('Predictions generated by Bayesian dropout approximation')\n",
    "    ax.legend(['Ground Truth', 'Point Prediction', 'Prediction Interval'], loc=2)\n",
    "\t\n",
    "    plt.close()\n",
    "    return fig"
   ]
  },
  {
   "cell_type": "code",
   "execution_count": 50,
   "metadata": {},
   "outputs": [
    {
     "data": {
      "image/png": "[encoded data removed]",
      "text/plain": [
       "<Figure size 1440x360 with 1 Axes>"
      ]
     },
     "execution_count": 50,
     "metadata": {},
     "output_type": "execute_result"
    }
   ],
   "source": [
    "plot_prediction_intervals(results[1:300])"
   ]
  },
  {
   "cell_type": "code",
   "execution_count": null,
   "metadata": {},
   "outputs": [],
   "source": []
  }
 ],
 "metadata": {
  "kernelspec": {
   "display_name": "Python 3",
   "language": "python",
   "name": "python3"
  },
  "language_info": {
   "codemirror_mode": {
    "name": "ipython",
    "version": 3
   },
   "file_extension": ".py",
   "mimetype": "text/x-python",
   "name": "python",
   "nbconvert_exporter": "python",
   "pygments_lexer": "ipython3",
   "version": "3.6.7"
  }
 },
 "nbformat": 4,
 "nbformat_minor": 2
}
